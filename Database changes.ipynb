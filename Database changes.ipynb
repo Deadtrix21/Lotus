{
 "cells": [
  {
   "cell_type": "code",
   "execution_count": 1,
   "metadata": {},
   "outputs": [],
   "source": [
    "import dotenv, os\n",
    "dotenv.load_dotenv()\n",
    "\n",
    "data = os.getenv(\"DATABASE\")"
   ]
  },
  {
   "cell_type": "code",
   "execution_count": 2,
   "metadata": {},
   "outputs": [
    {
     "name": "stdout",
     "output_type": "stream",
     "text": [
      "{'_id': ObjectId('6250849e891a54993b448a04'), 'Exp': {'exp': 269.0, 'lvl': 8}, 'Boosts': {}, 'Currency': {'bank': {'limit': 116152.0, 'amount': 21928263.0}, 'wallet': 0.0}, 'Discord_Id': 800751809592557659, 'Account': {'password': 'exmaple', 'created_at': '2022-04-08T18:53:18.128279+00:00', 'email': 'example@outlook.com', 'since_created': {'years': 0, 'months': 0, 'days': 8}}, 'Clan_Id': 0, 'Staff': {'category': 'None', 'enable': True}}\n",
      "{   'Account': {   'created_at': '2022-04-08T18:53:18.128279+00:00',\n",
      "                   'email': 'example@outlook.com',\n",
      "                   'password': 'exmaple',\n",
      "                   'since_created': {'days': 8, 'months': 0, 'years': 0}},\n",
      "    'Boosts': {},\n",
      "    'Clan_Id': 0,\n",
      "    'Currency': {   'bank': {'amount': 21928263.0, 'limit': 116152.0},\n",
      "                    'wallet': 0.0},\n",
      "    'Discord_Id': 800751809592557659,\n",
      "    'Exp': {'exp': 269.0, 'lvl': 8},\n",
      "    'Staff': {'category': 'None', 'enable': True},\n",
      "    '_id': ObjectId('6250849e891a54993b448a04')}\n"
     ]
    }
   ],
   "source": [
    "from pymongo import MongoClient\n",
    "from pprint import pprint\n",
    "db = MongoClient(data)\n",
    "\n",
    "database = db.list_database_names()[1]\n",
    "collection = db[database].list_collection_names()[1]\n",
    "cursor = db[database][collection]\n",
    "jay = cursor.find_one({\"Discord_Id\":800751809592557659})\n",
    "\n",
    "print(jay)\n",
    "pprint(jay, indent=4)\n",
    "\n",
    "\n",
    "\n",
    "\n",
    "def backup(cursor, opt=0):\n",
    "    backup = db[\"BackupNightmarefever\"]\n",
    "    back = backup[\"Users\"]\n",
    "\n",
    "    def delete():\n",
    "        try:\n",
    "            back.delete_many({})\n",
    "            return True\n",
    "        except Exception:\n",
    "            return False\n",
    "    def backupusers():\n",
    "        try:\n",
    "            res = cursor.find({\"Boosts\":{}})\n",
    "            for i in res:\n",
    "                back.insert_one(i)\n",
    "            return True\n",
    "        except Exception:\n",
    "            return False\n",
    "    def view():\n",
    "        res = back.find_one({})\n",
    "        from pprint import pprint\n",
    "        pprint(res, indent=4)\n",
    "    if opt == 0:\n",
    "        clearprev = delete()\n",
    "        addnew = backupusers()\n",
    "        if (clearprev and addnew) == True:\n",
    "            print(\"backup complete\")\n",
    "    elif opt == 1:\n",
    "        view()\n",
    "\n",
    "#backup(cursor, 1)"
   ]
  },
  {
   "cell_type": "code",
   "execution_count": 5,
   "metadata": {},
   "outputs": [
    {
     "name": "stdout",
     "output_type": "stream",
     "text": [
      "{   'Account': {   'created_at': '2022-04-08T18:53:18.128279+00:00',\n",
      "                   'email': 'example@outlook.com',\n",
      "                   'password': 'exmaple',\n",
      "                   'since_created': {'days': 6, 'months': 0, 'years': 0}},\n",
      "    'Boosts': {'lvlboost': 1},\n",
      "    'Clan_Id': 0,\n",
      "    'Currency': {   'bank': {'amount': 21913610.0, 'limit': 116152.0},\n",
      "                    'wallet': 686.0},\n",
      "    'Discord_Id': 800751809592557659,\n",
      "    'Exp': {'exp': 269.0, 'lvl': 8},\n",
      "    'Staff': {'category': None, 'enable': True},\n",
      "    '_id': ObjectId('6250849e891a54993b448a04')}\n"
     ]
    }
   ],
   "source": [
    "ebackup = db[\"BackupNightmarefever\"]\n",
    "eback = ebackup[\"Users\"]\n",
    "\n",
    "cursor.update_many({}, \n",
    "    {\"$set\": \n",
    "        {\"Staff.category\": 0}\n",
    "    }\n",
    "    )\n",
    "backup(cursor, 1)"
   ]
  },
  {
   "cell_type": "code",
   "execution_count": null,
   "metadata": {},
   "outputs": [],
   "source": []
  }
 ],
 "metadata": {
  "interpreter": {
   "hash": "81960791de7d7ed4bf3267117f37f767a3ab3ca53df477d8e8422cda74a2e21d"
  },
  "kernelspec": {
   "display_name": "Python 3.9.2 ('env': venv)",
   "language": "python",
   "name": "python3"
  },
  "language_info": {
   "codemirror_mode": {
    "name": "ipython",
    "version": 3
   },
   "file_extension": ".py",
   "mimetype": "text/x-python",
   "name": "python",
   "nbconvert_exporter": "python",
   "pygments_lexer": "ipython3",
   "version": "3.9.2"
  },
  "orig_nbformat": 4
 },
 "nbformat": 4,
 "nbformat_minor": 2
}
